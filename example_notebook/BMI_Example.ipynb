{
 "cells": [
  {
   "cell_type": "markdown",
   "id": "75ad7f2c-0347-483c-b8a3-9d9661bf6a2f",
   "metadata": {},
   "source": [
    "## How to run the pyDeltaRCM model via the CSDMS BMI\n",
    "\n",
    "This quick notebook outlines how the [pyDeltaRCM model](https://github.com/DeltaRCM/pyDeltaRCM) can be accessed and used via the [Basic Model Interface (BMI)](https://bmi.readthedocs.io/en/latest/index.html).\n",
    "\n",
    "This requires installation of the [BMI_pyDeltaRCM package](https://github.com/DeltaRCM/BMI_pyDeltaRCM) which handles the conversion of pyDeltaRCM variables to their BMI counterparts under the hood."
   ]
  },
  {
   "cell_type": "markdown",
   "id": "32b11f4d-a935-420b-ac2c-e982f2d21bb1",
   "metadata": {},
   "source": [
    "### Step 1: Import packages\n",
    "\n",
    "We import matplotlib for plotting, and the `BmiDelta` object from the BMI_pyDeltaRCM package."
   ]
  },
  {
   "cell_type": "code",
   "execution_count": null,
   "id": "f23d8f7b-c9e4-4cc4-af6d-67ea17d0c152",
   "metadata": {},
   "outputs": [],
   "source": [
    "import matplotlib.pyplot as plt\n",
    "from BMI_pyDeltaRCM.bmidelta import BmiDelta"
   ]
  },
  {
   "cell_type": "markdown",
   "id": "d0f8f149-b4aa-4ff2-903f-a66013eb418c",
   "metadata": {},
   "source": [
    "### Step 2: Model initialization\n",
    "\n",
    "We instantiate our model by simply calling it and assigning it a variable name, then we can check that the model instance we've created is a pyDeltaRCM model.\n",
    "\n",
    "Once we've done that, we can check the configuration YAML file we are using for this model run. Note that this configuration file uses [CSDMS Standard Names](https://csdms.colorado.edu/wiki/CSDMS_Standard_Names), as opposed to the pyDeltaRCM input variable names.\n",
    "\n",
    "Using the YAML configuration file, the model can be initialized by calling `delta.initialize(<yaml file>)`."
   ]
  },
  {
   "cell_type": "code",
   "execution_count": null,
   "id": "5c9ae37c-544e-40a9-b32d-221a885be0f5",
   "metadata": {},
   "outputs": [],
   "source": [
    "# define model instance\n",
    "delta = BmiDelta()"
   ]
  },
  {
   "cell_type": "code",
   "execution_count": null,
   "id": "eedb5195-a6f1-406f-b741-c6e00c36cfdc",
   "metadata": {},
   "outputs": [],
   "source": [
    "# check that it is a pyDeltaRCM model\n",
    "print(delta.get_component_name())"
   ]
  },
  {
   "cell_type": "code",
   "execution_count": null,
   "id": "0fc32d2c-5328-4b03-9204-62ff2cdd6c9d",
   "metadata": {},
   "outputs": [],
   "source": [
    "# check configuration file\n",
    "cat newrun.yaml"
   ]
  },
  {
   "cell_type": "code",
   "execution_count": null,
   "id": "49e5c479-13d7-4d00-bc4e-6291ac4039d4",
   "metadata": {},
   "outputs": [],
   "source": [
    "# initialize the model\n",
    "delta.initialize('newrun.yaml')"
   ]
  },
  {
   "cell_type": "markdown",
   "id": "b58f94f0-4ff2-4348-9853-44d1158374a2",
   "metadata": {},
   "source": [
    "### Step 3: Update the model\n",
    "\n",
    "Using the BMI framework, we can update our model.\n",
    "\n",
    "First we'll query some timekeeping invoration to understand the current state of the model, as well as the timestep and its size.\n",
    "\n",
    "Then we will print out a bunch of variable names to get a feeling for what the model contains. To see the effect of the model update, we will save the initial topography as a variable, update the model, and then plot the difference between the new, updated, topography and the intial topography."
   ]
  },
  {
   "cell_type": "code",
   "execution_count": null,
   "id": "1cc242b4-2baf-468b-b9b7-c2abb364a89d",
   "metadata": {},
   "outputs": [],
   "source": [
    "# print timekeeping information\n",
    "print('Start time:', delta.get_start_time())\n",
    "print('End time:', delta.get_end_time())\n",
    "print('Current time:', delta.get_current_time())\n",
    "print('Time step:', delta.get_time_step())\n",
    "print('Time units:', delta.get_time_units())"
   ]
  },
  {
   "cell_type": "code",
   "execution_count": null,
   "id": "37372218-b0b0-46f1-9580-6260a0b4166f",
   "metadata": {},
   "outputs": [],
   "source": [
    "# print model variable names\n",
    "print(delta.get_input_var_names())\n",
    "print(delta.get_output_var_names())"
   ]
  },
  {
   "cell_type": "code",
   "execution_count": null,
   "id": "8b046309-b4b6-4f6d-a578-ff422a32a49d",
   "metadata": {},
   "outputs": [],
   "source": [
    "# write initial topography to a variable\n",
    "initial_topo = delta.get_value('sea_bottom_surface__elevation')"
   ]
  },
  {
   "cell_type": "code",
   "execution_count": null,
   "id": "36a600ba-be0d-47e1-af13-5438d34c22ba",
   "metadata": {},
   "outputs": [],
   "source": [
    "# advance model a timestep\n",
    "delta.update()"
   ]
  },
  {
   "cell_type": "code",
   "execution_count": null,
   "id": "ee322e06-7030-44ef-aeda-a11057abae46",
   "metadata": {},
   "outputs": [],
   "source": [
    "# get the updated topography\n",
    "updated_topo = delta.get_value('sea_bottom_surface__elevation')"
   ]
  },
  {
   "cell_type": "code",
   "execution_count": null,
   "id": "e14b9d66-59da-4c74-8c19-9e8ae801daf1",
   "metadata": {},
   "outputs": [],
   "source": [
    "# plot the difference between updated and initial topography (blue = deposition, red = erosion)\n",
    "plt.figure(dpi=200)\n",
    "plt.imshow(updated_topo - initial_topo, cmap='bwr_r', vmin=-0.35, vmax=0.35)\n",
    "plt.colorbar(fraction=0.035)\n",
    "plt.show()"
   ]
  }
 ],
 "metadata": {
  "kernelspec": {
   "display_name": "Python [conda env:pydeltarcm] *",
   "language": "python",
   "name": "conda-env-pydeltarcm-py"
  },
  "language_info": {
   "codemirror_mode": {
    "name": "ipython",
    "version": 3
   },
   "file_extension": ".py",
   "mimetype": "text/x-python",
   "name": "python",
   "nbconvert_exporter": "python",
   "pygments_lexer": "ipython3",
   "version": "3.9.6"
  }
 },
 "nbformat": 4,
 "nbformat_minor": 5
}
